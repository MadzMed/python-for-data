{
 "cells": [
  {
   "cell_type": "code",
   "execution_count": 2,
   "metadata": {},
   "outputs": [],
   "source": [
    "# print graph inline code, not in a different window\n",
    "%matplotlib inline\n",
    "\n",
    "from random import randint\n",
    "\n",
    "from enum import Enum\n",
    "\n",
    "# library for print graph\n",
    "import matplotlib.pyplot as plt"
   ]
  },
  {
   "cell_type": "markdown",
   "metadata": {},
   "source": [
    "# Monty Hall\n",
    "\n",
    "## Setup"
   ]
  },
  {
   "cell_type": "markdown",
   "metadata": {},
   "source": [
    "### define strategies"
   ]
  },
  {
   "cell_type": "code",
   "execution_count": 3,
   "metadata": {},
   "outputs": [],
   "source": [
    "class Strategy(Enum):\n",
    "    CHANGE = 1\n",
    "    KEEP = 2"
   ]
  },
  {
   "cell_type": "markdown",
   "metadata": {},
   "source": [
    "### define game"
   ]
  },
  {
   "cell_type": "code",
   "execution_count": 4,
   "metadata": {},
   "outputs": [],
   "source": [
    "def game(strategy):\n",
    "    # setup game\n",
    "    doors = [0, 1, 2]\n",
    "    winning_door = randint(0,2)\n",
    "    \n",
    "    # setup first user choice\n",
    "    f_choice = randint(0,2)\n",
    "    \n",
    "    # delete selection from choice\n",
    "    doors.remove(f_choice)\n",
    "    \n",
    "    # init second round\n",
    "    if f_choice == winning_door:\n",
    "        doors.remove(doors[randint(0,1)])\n",
    "    else:\n",
    "        doors = [winning_door]\n",
    "        \n",
    "    # setup second user choice depends on strategy\n",
    "    s_choice = 0\n",
    "    if strategy == Strategy.CHANGE:\n",
    "        s_choice = doors[0]\n",
    "    elif strategy == Strategy.KEEP:\n",
    "        s_choice = f_choice\n",
    "    else:\n",
    "        raise ValueError(\"Stratégie non reconnue!\")\n",
    "        \n",
    "    return s_choice == winning_door\n",
    "    "
   ]
  },
  {
   "cell_type": "markdown",
   "metadata": {},
   "source": [
    "### test"
   ]
  },
  {
   "cell_type": "code",
   "execution_count": 5,
   "metadata": {},
   "outputs": [
    {
     "name": "stdout",
     "output_type": "stream",
     "text": [
      "keeping strategy: False\n",
      "changing strategy: True\n"
     ]
    }
   ],
   "source": [
    "print(\"keeping strategy:\", game(Strategy.KEEP))\n",
    "print(\"changing strategy:\", game(Strategy.CHANGE))"
   ]
  },
  {
   "cell_type": "markdown",
   "metadata": {},
   "source": [
    "## Multiple Game"
   ]
  },
  {
   "cell_type": "markdown",
   "metadata": {},
   "source": [
    "## Setup"
   ]
  },
  {
   "cell_type": "code",
   "execution_count": 6,
   "metadata": {},
   "outputs": [],
   "source": [
    "def play_multiple_game(strategy, nb):\n",
    "    return [1 if game(strategy) else 0 for i in range(nb)]"
   ]
  },
  {
   "cell_type": "markdown",
   "metadata": {},
   "source": [
    "## Views"
   ]
  },
  {
   "cell_type": "markdown",
   "metadata": {},
   "source": [
    "### result"
   ]
  },
  {
   "cell_type": "code",
   "execution_count": 7,
   "metadata": {},
   "outputs": [
    {
     "name": "stdout",
     "output_type": "stream",
     "text": [
      "with changing strategy, user win 6686 on 10000 games.\n",
      "with keeping strategy, user win 3299 on 10000 games.\n"
     ]
    }
   ],
   "source": [
    "print(\"with changing strategy, user win {} on 10000 games.\"\n",
    "      .format(sum(play_multiple_game(Strategy.CHANGE, 10000))))\n",
    "      \n",
    "print(\"with keeping strategy, user win {} on 10000 games.\"\n",
    "      .format(sum(play_multiple_game(Strategy.KEEP, 10000))))"
   ]
  },
  {
   "cell_type": "markdown",
   "metadata": {},
   "source": [
    "### plot"
   ]
  },
  {
   "cell_type": "code",
   "execution_count": 8,
   "metadata": {},
   "outputs": [
    {
     "data": {
      "image/png": "[encoded data removed]",
      "text/plain": [
       "<Figure size 432x288 with 1 Axes>"
      ]
     },
     "metadata": {
      "needs_background": "light"
     },
     "output_type": "display_data"
    }
   ],
   "source": [
    "plot = plt.bar([1,2],[sum(play_multiple_game(Strategy.CHANGE, 100000)), \n",
    "               sum(play_multiple_game(Strategy.KEEP, 100000))], \n",
    "        tick_label=[\"Change\",\"Keep\"])"
   ]
  },
  {
   "cell_type": "code",
   "execution_count": null,
   "metadata": {},
   "outputs": [],
   "source": []
  },
  {
   "cell_type": "code",
   "execution_count": null,
   "metadata": {},
   "outputs": [],
   "source": []
  },
  {
   "cell_type": "code",
   "execution_count": null,
   "metadata": {},
   "outputs": [],
   "source": []
  },
  {
   "cell_type": "code",
   "execution_count": null,
   "metadata": {},
   "outputs": [],
   "source": []
  }
 ],
 "metadata": {
  "kernelspec": {
   "display_name": "Python 3",
   "language": "python",
   "name": "python3"
  },
  "language_info": {
   "codemirror_mode": {
    "name": "ipython",
    "version": 3
   },
   "file_extension": ".py",
   "mimetype": "text/x-python",
   "name": "python",
   "nbconvert_exporter": "python",
   "pygments_lexer": "ipython3",
   "version": "3.8.3"
  }
 },
 "nbformat": 4,
 "nbformat_minor": 4
}
