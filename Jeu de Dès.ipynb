{
 "cells": [
  {
   "cell_type": "markdown",
   "metadata": {},
   "source": [
    "# Jeu de Dès"
   ]
  },
  {
   "cell_type": "markdown",
   "metadata": {},
   "source": [
    "## Setup"
   ]
  },
  {
   "cell_type": "code",
   "execution_count": 8,
   "metadata": {},
   "outputs": [],
   "source": [
    "import random\n",
    "def piece_equilibrée():\n",
    "    if (random.uniform(0,1) <= 0.5):\n",
    "        return 1\n",
    "    else:\n",
    "        return -1\n",
    "\n",
    "def piece_JeuA():\n",
    "    if (random.uniform(0,1) <= 0.49):\n",
    "        return 1\n",
    "    else:\n",
    "        return -1\n",
    "    \n",
    "def piece_JeuB1():\n",
    "    if (random.uniform(0,1) <= 0.09):\n",
    "        return 1\n",
    "    else:\n",
    "        return -1\n",
    "    \n",
    "def piece_JeuB2():\n",
    "    if (random.uniform(0,1) <= 0.74):\n",
    "        return 1\n",
    "    else:\n",
    "        return -1"
   ]
  },
  {
   "cell_type": "markdown",
   "metadata": {},
   "source": [
    "## Game"
   ]
  },
  {
   "cell_type": "code",
   "execution_count": 11,
   "metadata": {},
   "outputs": [
    {
     "name": "stdout",
     "output_type": "stream",
     "text": [
      "le gain net est de : 5934.0 €\n"
     ]
    }
   ],
   "source": [
    "moy = 0\n",
    "\n",
    "for i in range(10):\n",
    "    n = 1000000\n",
    "    gain = 0\n",
    "\n",
    "    for i in range(n):\n",
    "        jeu = piece_equilibrée()\n",
    "        if jeu == 1:\n",
    "            gain += piece_JeuA()\n",
    "        else:\n",
    "            if gain % 3 == 0:\n",
    "                gain += piece_JeuB1()\n",
    "            else:\n",
    "                gain += piece_JeuB2()\n",
    "    moy += gain\n",
    "    \n",
    "print(\"le gain net est de :\", moy /10, \"€\")"
   ]
  },
  {
   "cell_type": "code",
   "execution_count": null,
   "metadata": {},
   "outputs": [],
   "source": [
    "    "
   ]
  },
  {
   "cell_type": "code",
   "execution_count": null,
   "metadata": {},
   "outputs": [],
   "source": []
  },
  {
   "cell_type": "code",
   "execution_count": null,
   "metadata": {},
   "outputs": [],
   "source": []
  },
  {
   "cell_type": "code",
   "execution_count": null,
   "metadata": {},
   "outputs": [],
   "source": []
  },
  {
   "cell_type": "code",
   "execution_count": null,
   "metadata": {},
   "outputs": [],
   "source": []
  },
  {
   "cell_type": "code",
   "execution_count": null,
   "metadata": {},
   "outputs": [],
   "source": []
  },
  {
   "cell_type": "code",
   "execution_count": null,
   "metadata": {},
   "outputs": [],
   "source": []
  },
  {
   "cell_type": "code",
   "execution_count": null,
   "metadata": {},
   "outputs": [],
   "source": []
  },
  {
   "cell_type": "code",
   "execution_count": null,
   "metadata": {},
   "outputs": [],
   "source": []
  }
 ],
 "metadata": {
  "kernelspec": {
   "display_name": "Python 3",
   "language": "python",
   "name": "python3"
  },
  "language_info": {
   "codemirror_mode": {
    "name": "ipython",
    "version": 3
   },
   "file_extension": ".py",
   "mimetype": "text/x-python",
   "name": "python",
   "nbconvert_exporter": "python",
   "pygments_lexer": "ipython3",
   "version": "3.8.3"
  }
 },
 "nbformat": 4,
 "nbformat_minor": 4
}
